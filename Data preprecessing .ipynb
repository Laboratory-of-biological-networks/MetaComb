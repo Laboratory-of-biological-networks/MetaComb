{
 "cells": [
  {
   "cell_type": "markdown",
   "id": "09936745",
   "metadata": {},
   "source": [
    "# Data preprocessing "
   ]
  },
  {
   "cell_type": "code",
   "execution_count": 2,
   "id": "19bef81d",
   "metadata": {},
   "outputs": [],
   "source": [
    "from pathlib import Path\n",
    "import pandas as pd \n",
    "import numpy as np\n",
    "import pickle"
   ]
  },
  {
   "cell_type": "markdown",
   "id": "aed79dc4",
   "metadata": {},
   "source": [
    "## Drug smiles"
   ]
  },
  {
   "cell_type": "code",
   "execution_count": 2,
   "id": "432ac1f1",
   "metadata": {},
   "outputs": [],
   "source": [
    "drug_smiles = pd.read_csv('E:/data/DC_drug_smiles.csv')"
   ]
  },
  {
   "cell_type": "code",
   "execution_count": 3,
   "id": "587e5b8c",
   "metadata": {},
   "outputs": [],
   "source": [
    "length =  []                                                                                                                                                                                                                            \n",
    "for i in range(len(drug_smiles)):\n",
    "    temp = len(drug_smiles.iloc[i][1])\n",
    "    length.append(temp)\n",
    "smiles_col = drug_smiles['smiles']\n",
    "smiles_col = smiles_col.apply(lambda x: x[:200].ljust(200, '0'))\n",
    "drug_smiles['smiles'] = smiles_col\n",
    "##label enconding\n",
    "seqs=drug_smiles['smiles'].to_list()\n",
    "chars=set([char for seq in seqs for char in seq])\n",
    "chars.remove('0') \n",
    "chars = ['0']+list(chars) #for zero embedding  \n",
    "codes = {'mole':Mapping(chars)}  \n",
    "drug_smiles['smiles']=drug_smiles['smiles'].apply(lambda x : [codes['mole'].item2idx[char] for char in x])\n",
    "drug_smiles.reset_index(drop = True, inplace = True)\n",
    "drug_dict = Mapping(drug_smiles['cid']).item2idx\n",
    "np.save('E:/data/drug_onlysmiles.npy')\n",
    "drug_smiles['cid'] = drug_smiles['cid'].apply(lambda x :drug_dict[x])\n",
    "drug_smiles.to_pickle('E:/data/drug_onlysmiles.pickle')"
   ]
  },
  {
   "cell_type": "markdown",
   "id": "7b4dd83e",
   "metadata": {},
   "source": [
    "## Expression profile "
   ]
  },
  {
   "cell_type": "code",
   "execution_count": 4,
   "id": "da165e77",
   "metadata": {},
   "outputs": [],
   "source": [
    "ccle_fpkm = pd.read_csv('E:/data/ccle_ge_fpkm.csv',low_memory=False)\n",
    "ccle_fpkm = ccle_fpkm.loc[:,ccle_fpkm.columns.isin(cell_line_name_cancertype)]\n",
    "test = ccle_fpkm.loc[:,['Name']]\n",
    "ccle_fpkm = pd.concat([test,ccle_fpkm_1],axis = 1)\n",
    "\n",
    "gene_ensemble_id_split = ccle_fpkm_2.columns.tolist()\n",
    "for i in range(len(gene_ensemble_id_split)):\n",
    "    gene_ensemble_id_split[i] = gene_ensemble_id_split[i].split(sep = '.')[0]\n",
    "gene_ensemble_id_split =pd.DataFrame(gene_ensemble_id_split)\n",
    "\n",
    "ccle_geneid = pd.read_csv( 'E:/data/ccle_geneid.csv') \n",
    "ccle_geneid = ccle_geneid.dropna()\n",
    "ccle_geneid.reset_index(drop=True, inplace=True)\n",
    "ccle_geneid['NCBI gene (formerly Entrezgene) ID'] =ccle_geneid['NCBI gene (formerly Entrezgene) ID'].apply(int)\n",
    "geneid_mapping = dict(zip(list(ccle_geneid['Gene stable ID'].values),list(ccle_geneid['NCBI gene (formerly Entrezgene) ID'].values)))\n",
    "ccle_fpkm.columns = gene_ensemble_id_split[0]\n",
    "new_ccle = ccle_fpkm.loc[:,ccle_fpkm.columns.isin(ccle_geneid['Gene stable ID'])]\n",
    "new_ccle.rename(columns=lambda x:geneid_mapping[x], inplace=True)\n",
    "\n",
    "##Z-score \n",
    "new_ccle = new_ccle.loc[:,(new_ccle.std()!=0)]\n",
    "new_ccle_norm =((new_ccle-new_ccle.mean())/new_ccle.std())\n",
    "new_ccle_norm.to_pickle('E:/data/cellline_feature.pickle')"
   ]
  },
  {
   "cell_type": "markdown",
   "id": "9b3776e3",
   "metadata": {},
   "source": [
    "## Gold standard data"
   ]
  },
  {
   "cell_type": "code",
   "execution_count": 6,
   "id": "4fb2b126",
   "metadata": {},
   "outputs": [],
   "source": [
    "summary = pd.read_csv('E:/data/summary_v_1_5.csv',low_memory=False)\n",
    "summary = summary.dropna(axis=0,subset = ['drug_row','drug_col']) ## Remove single drug data\n",
    "summary = summary.loc[summary['drug_row'] != summary['drug_col'],] ## Delete the duplicated sample for drug A and drug B\n",
    "# take average of replicates experiments\n",
    "summary_mean= summary.groupby(['drug_row','drug_col','cell_line_name','study_name'], as_index=False).mean()\n",
    "summary_mean= summary_mean.loc[:, ['drug_row', 'drug_col', 'cell_line_name','S_sum']\n",
    "dc_drug = pd.read_csv('E:/data/dc_cid.csv',dtype={\"drug\": str})\n",
    "dc_drug = dc_drug.dropna()\n",
    "dc_drug['cid'] = dc_drug['cid'].apply(int)\n",
    "cid_mapping = dict(zip(list(dc_drug['drug'].values),dc_drug['cid'].values))\n",
    "df = summary_mean\n",
    "df = df[df['drug_row'].isin(list(dc_drug['drug'].values))]\n",
    "df = df[df['drug_col'].isin(list(dc_drug['drug'].values))]\n",
    "df['drug_row'] = df['drug_row'].apply(lambda x: cid_mapping[x])\n",
    "df['drug_col'] = df['drug_col'].apply(lambda x: cid_mapping[x])\n",
    "df.reset_index(drop=True, inplace=True)\n",
    "# Delete the replicates information about drug A-B and B-A\n",
    "df['drug_row'] = df['drug_row'].apply(lambda x: str(x))\n",
    "df['drug_col'] = df['drug_col'].apply(lambda x: str(x))\n",
    "df['sorted_drug'] = df[['drug_row', 'drug_col']].apply(lambda x: '//'.join(sorted(x, key=lambda y: y[0])), axis=1)\n",
    "df =df.drop_duplicates(subset = ['sorted_drug','cell_line_name'])\n",
    "df.reset_index(drop=True, inplace=True)\n",
    "df[['drug_A', 'drug_B']] = df['sorted_drug'].str.split('//', expand=True)\n",
    "df['drug_A'] = df['drug_A'].apply(lambda x: int(x))\n",
    "df['drug_B'] = df['drug_B'].apply(lambda x: int(x))\n",
    "df.reset_index(drop=True, inplace=True)\n",
    "df = df[['drug_A','drug_B','cell_line_name','S_sum','CSS']]\n",
    "                               \n",
    "##Matching expression profile information                            \n",
    "cl = df\n",
    "dc_depmep=pd.read_pickle('E:/data/dc_depmep.pickle')\n",
    "cl1_mapping = dict(zip(list(dc_depmep['cell_line_name'].values),list(dc_depmep['CCLE_Name'].values)))\n",
    "cl1 = cl[cl['cell_line_name'].isin(dc_depmep['cell_line_name'])]\n",
    "cl1['cell_line_name']=cl1['cell_line_name'].apply(lambda x: cl1_mapping[x])\n",
    "cl2_mapping = dict(zip(list(dc_depmep['stripped_cell_line_name'].values),list(dc_depmep['CCLE_Name'].values)))\n",
    "cl2= cl[cl['cell_line_name'].isin(dc_depmep['stripped_cell_line_name'])]\n",
    "cl2['cell_line_name']=cl2['cell_line_name'].apply(lambda x: cl2_mapping[x])\n",
    "cl_all = pd.concat([cl1,cl2],axis = 0)\n",
    "cl_all =cl_all.drop_duplicates(subset = ['drug_A','drug_B','cell_line_name'],keep = 'first')\n",
    "cell_dict = np.load('E:/data/cell_line/dict_cell.npy', allow_pickle='TRUE').item()\n",
    "cl_all =cl_all[cl_all['cell_line_name'].isin(cell_dict.keys())]\n",
    "cl_all['cell_line_name'] = cl_all['cell_line_name'].apply(lambda x: cell_dict[x])\n",
    "cl_all.to_pickle('E:/data/preprocessed_cl_label_data.pickle')                    "
   ]
  },
  {
   "cell_type": "code",
   "execution_count": 7,
   "id": "c846ce0a",
   "metadata": {},
   "outputs": [],
   "source": [
    "df = pd.read_pickle('E:/data/preprocessed_cl_label_data.pickle') \n",
    "drug_dict = np.load('/E:/data/drug_onlysmiles.npy', allow_pickle='TRUE').item()\n",
    "df = df[df['drug_A'].isin(drug_dict.keys())]\n",
    "df = df[df['drug_B'].isin(drug_dict.keys())]\n",
    "df['drug_A'] = df['drug_A'].apply(lambda x: drug_dict[x])\n",
    "df['drug_B'] = df['drug_B'].apply(lambda x: drug_dict[x])\n",
    "df.reset_index(drop = True,inplace = True)\n",
    "label_list = []\n",
    "for i  in range(len(df)):\n",
    "    css = df.iloc[i][3]\n",
    "    s = df.iloc[i][4]\n",
    "    if (css >= 10 ) & (s > 5):\n",
    "        label  = 1\n",
    "    else:\n",
    "        label  = 0\n",
    "    label_list.append(label)\n",
    "\n",
    "c={\"label\":label_list} \n",
    "data=pd.DataFrame(c)\n",
    "cl_label = pd.concat([df,data],axis = 1)\n",
    "cl_label.to_pickle('E:/data/cl_label_data.pickle')"
   ]
  }
 ],
 "metadata": {
  "kernelspec": {
   "display_name": "Python 3 (ipykernel)",
   "language": "python",
   "name": "python3"
  },
  "language_info": {
   "codemirror_mode": {
    "name": "ipython",
    "version": 3
   },
   "file_extension": ".py",
   "mimetype": "text/x-python",
   "name": "python",
   "nbconvert_exporter": "python",
   "pygments_lexer": "ipython3",
   "version": "3.9.7"
  }
 },
 "nbformat": 4,
 "nbformat_minor": 5
}
